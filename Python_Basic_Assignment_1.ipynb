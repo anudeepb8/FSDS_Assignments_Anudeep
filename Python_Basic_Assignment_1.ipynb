{
 "cells": [
  {
   "cell_type": "markdown",
   "id": "132d49ff",
   "metadata": {},
   "source": [
    "#                                    Assignment-1"
   ]
  },
  {
   "cell_type": "markdown",
   "id": "28d5dd89",
   "metadata": {},
   "source": [
    "# 1. In the below elements which of them are values or an expression? eg:- values can be integer or string and expressions will be mathematical operators.\n",
    "\n",
    "*\n",
    "'hello'\n",
    "-87.8\n",
    "-\n",
    "/\n",
    "+"
   ]
  },
  {
   "cell_type": "raw",
   "id": "702282d8",
   "metadata": {},
   "source": [
    "Answer:\n",
    "\n",
    "Values: 'hello' , -87.8 \n",
    "Expression: * , - , / , +"
   ]
  },
  {
   "cell_type": "markdown",
   "id": "34a855be",
   "metadata": {},
   "source": [
    "# 2. What is the difference between string and variable?"
   ]
  },
  {
   "cell_type": "raw",
   "id": "766ebf45",
   "metadata": {},
   "source": [
    "Answer:\n",
    "\n",
    "String is a datatype.\n",
    "\n",
    "Variable is a entity to store the data."
   ]
  },
  {
   "cell_type": "markdown",
   "id": "33c2f7e8",
   "metadata": {},
   "source": [
    "# 3.Describe three different data types."
   ]
  },
  {
   "cell_type": "raw",
   "id": "7d4d53dc",
   "metadata": {},
   "source": [
    "Answer:\n",
    "i)int\n",
    "ii)float\n",
    "iii)complex"
   ]
  },
  {
   "cell_type": "markdown",
   "id": "ea0adceb",
   "metadata": {},
   "source": [
    "# 4. What is an expression made up of? What do all expressions do?"
   ]
  },
  {
   "cell_type": "raw",
   "id": "6bfe0dce",
   "metadata": {},
   "source": [
    "Answer:\n",
    " Expression is made up of operators and operands.\n",
    " Expressions are useful to perform the arthimatic operations."
   ]
  },
  {
   "cell_type": "markdown",
   "id": "08e86be3",
   "metadata": {},
   "source": [
    "# 5. This assignment statements, like spam = 10. What is the difference between an expression and a statement?"
   ]
  },
  {
   "cell_type": "raw",
   "id": "caa57870",
   "metadata": {},
   "source": [
    "Answer:\n",
    "    Assignment statement used to assign the value to the variable to store in the memory.\n",
    "    Example:spam is the variable name and value of 10 is assigned to it\n",
    "        \n",
    "    Expression is made of Operators and the operands.\n",
    "    Example:spam*10 is the expression"
   ]
  },
  {
   "cell_type": "markdown",
   "id": "430aa0b5",
   "metadata": {},
   "source": [
    "# 6.After running the following code, what does the variable bacon contain?\n",
    "bacon = 22\n",
    "bacon + 1"
   ]
  },
  {
   "cell_type": "raw",
   "id": "f9fdf840",
   "metadata": {},
   "source": [
    "Answer:\n",
    "22"
   ]
  },
  {
   "cell_type": "markdown",
   "id": "239a4111",
   "metadata": {},
   "source": [
    "# 7. What should the values of the following two terms be?\n",
    "'spam'+'spamspam'\n",
    "'spam'*3"
   ]
  },
  {
   "cell_type": "raw",
   "id": "1d362433",
   "metadata": {},
   "source": [
    "Answer:\n",
    "'spamspamspam'\n",
    "'spamspamspam'"
   ]
  },
  {
   "cell_type": "markdown",
   "id": "c2707353",
   "metadata": {},
   "source": [
    "# 8. Why is eggs a valid variable name while 100 is invalid?"
   ]
  },
  {
   "cell_type": "raw",
   "id": "8fceb078",
   "metadata": {},
   "source": [
    "Answer:\n",
    "Variable name should not start with number,that is why varible name 100 is invalid"
   ]
  },
  {
   "cell_type": "markdown",
   "id": "751451eb",
   "metadata": {},
   "source": [
    "# 9. What three functions can be used to get the integer, floating-point number, or string version of a value?"
   ]
  },
  {
   "cell_type": "raw",
   "id": "94831ccb",
   "metadata": {},
   "source": [
    "Answer:\n",
    "int(value) to get the integer version of value.\n",
    "float(value) to get the float version of value.\n",
    "str(value) to get the string version of value"
   ]
  },
  {
   "cell_type": "markdown",
   "id": "b94ff945",
   "metadata": {},
   "source": [
    "# 10. Why does this expression cause an error? How can you fix it?\n",
    "'I have eaten'+ 99 + 'burritos'"
   ]
  },
  {
   "cell_type": "raw",
   "id": "e5648026",
   "metadata": {},
   "source": [
    "Answer:\n",
    "Reason for error: String cannot concatinate with the intiger.\n",
    "solution:we need to convert data type of 99 to the string.\n",
    "'I have eaten'+ str(99) + 'burritos'    "
   ]
  }
 ],
 "metadata": {
  "kernelspec": {
   "display_name": "Python 3 (ipykernel)",
   "language": "python",
   "name": "python3"
  },
  "language_info": {
   "codemirror_mode": {
    "name": "ipython",
    "version": 3
   },
   "file_extension": ".py",
   "mimetype": "text/x-python",
   "name": "python",
   "nbconvert_exporter": "python",
   "pygments_lexer": "ipython3",
   "version": "3.9.12"
  }
 },
 "nbformat": 4,
 "nbformat_minor": 5
}
