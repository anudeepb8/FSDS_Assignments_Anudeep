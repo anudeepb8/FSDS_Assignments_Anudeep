{
 "cells": [
  {
   "cell_type": "markdown",
   "id": "ed2dd1f2",
   "metadata": {},
   "source": [
    "#                                    Assignment-1"
   ]
  },
  {
   "cell_type": "code",
   "execution_count": null,
   "id": "1d36296a",
   "metadata": {},
   "outputs": [],
   "source": [
    "# 1. In the below elements which of them are values or an expression? eg:- values can be integer or string and expressions will be mathematical operators.\n",
    "\n",
    "*\n",
    "'hello'\n",
    "-87.8\n",
    "-\n",
    "/\n",
    "+"
   ]
  },
  {
   "cell_type": "code",
   "execution_count": null,
   "id": "1a46dbd0",
   "metadata": {},
   "outputs": [],
   "source": [
    "Answer:\n",
    "\n",
    "Values: 'hello' , -87.8 \n",
    "Expression: * , - , / , +"
   ]
  },
  {
   "cell_type": "code",
   "execution_count": null,
   "id": "7124ddba",
   "metadata": {},
   "outputs": [],
   "source": [
    "# 2. What is the difference between string and variable?"
   ]
  },
  {
   "cell_type": "code",
   "execution_count": null,
   "id": "acd76bde",
   "metadata": {},
   "outputs": [],
   "source": [
    "Answer:\n",
    "\n",
    "String is a datatype.\n",
    "\n",
    "Variable is a entity to store the data."
   ]
  },
  {
   "cell_type": "code",
   "execution_count": null,
   "id": "60c9705e",
   "metadata": {},
   "outputs": [],
   "source": [
    "# 3.Describe three different data types."
   ]
  },
  {
   "cell_type": "code",
   "execution_count": null,
   "id": "0b7ce92a",
   "metadata": {},
   "outputs": [],
   "source": [
    "Answer:\n",
    "i)int\n",
    "ii)float\n",
    "iii)complex"
   ]
  },
  {
   "cell_type": "code",
   "execution_count": null,
   "id": "057e7e74",
   "metadata": {},
   "outputs": [],
   "source": [
    "# 4. What is an expression made up of? What do all expressions do?"
   ]
  },
  {
   "cell_type": "code",
   "execution_count": null,
   "id": "dd079698",
   "metadata": {},
   "outputs": [],
   "source": [
    "Answer:\n",
    " Expression is made up of operators and operands.\n",
    " Expressions are useful to perform the arthimatic operations."
   ]
  },
  {
   "cell_type": "code",
   "execution_count": null,
   "id": "32190af7",
   "metadata": {},
   "outputs": [],
   "source": [
    "# 5. This assignment statements, like spam = 10. What is the difference between an expression and a statement?"
   ]
  },
  {
   "cell_type": "code",
   "execution_count": null,
   "id": "964f6a0b",
   "metadata": {},
   "outputs": [],
   "source": [
    "Answer:\n",
    "    Assignment statement used to assign the value to the variable to store in the memory.\n",
    "    Example:spam is the variable name and value of 10 is assigned to it\n",
    "        \n",
    "    Expression is made of Operators and the operands.\n",
    "    Example:spam*10 is the expression"
   ]
  },
  {
   "cell_type": "code",
   "execution_count": null,
   "id": "437027fa",
   "metadata": {},
   "outputs": [],
   "source": [
    "# 6.After running the following code, what does the variable bacon contain?\n",
    "bacon = 22\n",
    "bacon + 1"
   ]
  },
  {
   "cell_type": "code",
   "execution_count": null,
   "id": "514d6be1",
   "metadata": {},
   "outputs": [],
   "source": [
    "Answer:\n",
    "22"
   ]
  },
  {
   "cell_type": "code",
   "execution_count": null,
   "id": "6cc9e678",
   "metadata": {},
   "outputs": [],
   "source": [
    "# 7. What should the values of the following two terms be?\n",
    "'spam'+'spamspam'\n",
    "'spam'*3"
   ]
  },
  {
   "cell_type": "code",
   "execution_count": null,
   "id": "e1e02c4e",
   "metadata": {},
   "outputs": [],
   "source": [
    "Answer:\n",
    "'spamspamspam'\n",
    "'spamspamspam'"
   ]
  },
  {
   "cell_type": "code",
   "execution_count": null,
   "id": "e3ca2cd4",
   "metadata": {},
   "outputs": [],
   "source": [
    "# 8. Why is eggs a valid variable name while 100 is invalid?"
   ]
  },
  {
   "cell_type": "code",
   "execution_count": null,
   "id": "d2bb13cc",
   "metadata": {},
   "outputs": [],
   "source": [
    "Answer:\n",
    "Variable name should not start with number,that is why varible name 100 is invalid"
   ]
  },
  {
   "cell_type": "code",
   "execution_count": null,
   "id": "2fad50b3",
   "metadata": {},
   "outputs": [],
   "source": [
    "# 9. What three functions can be used to get the integer, floating-point number, or string version of a value?"
   ]
  },
  {
   "cell_type": "code",
   "execution_count": null,
   "id": "a53bf3fa",
   "metadata": {},
   "outputs": [],
   "source": [
    "Answer:\n",
    "int(value) to get the integer version of value.\n",
    "float(value) to get the float version of value.\n",
    "str(value) to get the string version of value"
   ]
  },
  {
   "cell_type": "code",
   "execution_count": null,
   "id": "74e3a937",
   "metadata": {},
   "outputs": [],
   "source": [
    "# 10. Why does this expression cause an error? How can you fix it?\n",
    "'I have eaten'+ 99 + 'burritos'"
   ]
  },
  {
   "cell_type": "code",
   "execution_count": null,
   "id": "6c0bde8f",
   "metadata": {},
   "outputs": [],
   "source": [
    "Answer:\n",
    "Reason for error: String cannot concatinate with the intiger.\n",
    "solution:we need to convert data type of 99 to the string.\n",
    "'I have eaten'+ str(99) + 'burritos'    "
   ]
  }
 ],
 "metadata": {
  "kernelspec": {
   "display_name": "Python 3 (ipykernel)",
   "language": "python",
   "name": "python3"
  },
  "language_info": {
   "codemirror_mode": {
    "name": "ipython",
    "version": 3
   },
   "file_extension": ".py",
   "mimetype": "text/x-python",
   "name": "python",
   "nbconvert_exporter": "python",
   "pygments_lexer": "ipython3",
   "version": "3.9.12"
  }
 },
 "nbformat": 4,
 "nbformat_minor": 5
}
