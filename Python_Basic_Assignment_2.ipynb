{
 "cells": [
  {
   "cell_type": "markdown",
   "id": "c376aa4a",
   "metadata": {},
   "source": [
    "# Assignment 2"
   ]
  },
  {
   "cell_type": "code",
   "execution_count": null,
   "id": "5287bba3",
   "metadata": {},
   "outputs": [],
   "source": [
    "1.What are the two values of the Boolean data type? How do you write them?"
   ]
  },
  {
   "cell_type": "code",
   "execution_count": null,
   "id": "93ab527e",
   "metadata": {},
   "outputs": [],
   "source": [
    "Answer:\n",
    "\n",
    "Two types of boolean data type values are:\n",
    "True\n",
    "False"
   ]
  },
  {
   "cell_type": "code",
   "execution_count": null,
   "id": "e1acd04b",
   "metadata": {},
   "outputs": [],
   "source": [
    "2. What are the three different types of Boolean operators?"
   ]
  },
  {
   "cell_type": "code",
   "execution_count": null,
   "id": "e3b58291",
   "metadata": {},
   "outputs": [],
   "source": [
    "Answer:\n",
    "\n",
    "Three types of boolean operators are:or,and,not"
   ]
  },
  {
   "cell_type": "code",
   "execution_count": null,
   "id": "f8240512",
   "metadata": {},
   "outputs": [],
   "source": [
    "3. Make a list of each Boolean operator's truth tables (i.e. every possible combination of Boolean\n",
    "values for the operator and what it evaluate )."
   ]
  },
  {
   "cell_type": "code",
   "execution_count": null,
   "id": "fdafe813",
   "metadata": {},
   "outputs": [],
   "source": [
    "Answer:\n",
    "\n",
    "or truth table:\n",
    "\n",
    "True  True    True\n",
    "True  False   True\n",
    "False True    True\n",
    "False False   False\n",
    "\n",
    "and truth table:\n",
    "\n",
    "True  True    True\n",
    "True  False   False\n",
    "False True    False\n",
    "False False   False"
   ]
  },
  {
   "cell_type": "code",
   "execution_count": null,
   "id": "12f0afef",
   "metadata": {},
   "outputs": [],
   "source": [
    "4. What are the values of the following expressions?\n",
    "\n",
    "(5>4) and (3==5)\n",
    "\n",
    "not(5>4)\n",
    "\n",
    "(5>4) or (3==5)\n",
    "\n",
    "not((5>4) or (3==5))\n",
    "\n",
    "(True and True) and (True==False)\n",
    "\n",
    "(not False) or (not True)"
   ]
  },
  {
   "cell_type": "code",
   "execution_count": null,
   "id": "839c5346",
   "metadata": {},
   "outputs": [],
   "source": [
    "Answer:\n",
    "\n",
    "(5>4) and (3==5)                     value:False\n",
    "\n",
    "not(5>4)                             value:False\n",
    "    \n",
    "(5>4) or (3==5)                      value:True\n",
    "\n",
    "not((5>4) or (3==5))                 value:False\n",
    "\n",
    "(True and True) and (True==False)    value:False\n",
    "    \n",
    "(not False) or (not True)            value:True"
   ]
  },
  {
   "cell_type": "code",
   "execution_count": null,
   "id": "b4c60952",
   "metadata": {},
   "outputs": [],
   "source": [
    "5. What are the six comparison operators?"
   ]
  },
  {
   "cell_type": "code",
   "execution_count": null,
   "id": "796aec02",
   "metadata": {},
   "outputs": [],
   "source": [
    "Answer:\n",
    "\n",
    ">\n",
    "<\n",
    ">=\n",
    "<=\n",
    "!=\n",
    "=="
   ]
  },
  {
   "cell_type": "code",
   "execution_count": null,
   "id": "92ae148e",
   "metadata": {},
   "outputs": [],
   "source": [
    "6. How do you tell the difference between the equal to and assignment operators?Describe a\n",
    "condition and when you would use one."
   ]
  },
  {
   "cell_type": "code",
   "execution_count": null,
   "id": "840b68c2",
   "metadata": {},
   "outputs": [],
   "source": [
    "Answer:\n",
    "Equal Operator     : ==\n",
    "Assignment Operator: =\n",
    "\n",
    "Equal Operator(==) is used to check whether two values are same.\n",
    "Assignment Operator(=) is used to assign value to the variable."
   ]
  },
  {
   "cell_type": "code",
   "execution_count": null,
   "id": "580a84f7",
   "metadata": {},
   "outputs": [],
   "source": [
    "7. Identify the three blocks in this code:\n",
    "spam = 0\n",
    "if spam == 10:\n",
    "print('eggs')\n",
    "if spam>5:\n",
    "print('bacon')\n",
    "else:\n",
    "print('ham')\n",
    "print('spam')\n",
    "print('spam')"
   ]
  },
  {
   "cell_type": "code",
   "execution_count": null,
   "id": "5f2ee437",
   "metadata": {},
   "outputs": [],
   "source": [
    "Answer:\n",
    "\n",
    "Three blocks in the above code is: if,if,else"
   ]
  },
  {
   "cell_type": "code",
   "execution_count": null,
   "id": "5dc31dd4",
   "metadata": {},
   "outputs": [],
   "source": [
    "8. Write code that prints Hello if 1 is stored in spam, prints Howdy if 2 is stored in spam, and prints\n",
    "Greetings! if anything else is stored in spam."
   ]
  },
  {
   "cell_type": "code",
   "execution_count": null,
   "id": "b8544539",
   "metadata": {},
   "outputs": [],
   "source": [
    "if spam==1:\n",
    "    print('Hello')\n",
    "elif spam==2:\n",
    "    print('Howdy')\n",
    "else:\n",
    "    print('Greetings!')"
   ]
  },
  {
   "cell_type": "code",
   "execution_count": null,
   "id": "3130cdc7",
   "metadata": {},
   "outputs": [],
   "source": [
    "9.If your programme is stuck in an endless loop, what keys you’ll press?"
   ]
  },
  {
   "cell_type": "code",
   "execution_count": null,
   "id": "c9df4131",
   "metadata": {},
   "outputs": [],
   "source": [
    "Answer:\n",
    "    \n",
    "Interrupt Kernal"
   ]
  },
  {
   "cell_type": "code",
   "execution_count": null,
   "id": "663f6ef9",
   "metadata": {},
   "outputs": [],
   "source": [
    "10. How can you tell the difference between break and continue?"
   ]
  },
  {
   "cell_type": "code",
   "execution_count": null,
   "id": "8b73c6ee",
   "metadata": {},
   "outputs": [],
   "source": [
    "Answer:\n",
    "\n",
    "break is used to break and come out of the loop.\n",
    "continue is used to give back the control to loop."
   ]
  },
  {
   "cell_type": "code",
   "execution_count": null,
   "id": "f48cae5f",
   "metadata": {},
   "outputs": [],
   "source": [
    "11. In a for loop, what is the difference between range(10), range(0, 10), and range(0, 10, 1)?"
   ]
  },
  {
   "cell_type": "code",
   "execution_count": null,
   "id": "2ec3d5c6",
   "metadata": {},
   "outputs": [],
   "source": [
    "Answer:\n",
    "\n",
    "In a for loop,There is no difference between range(10), range(0, 10), and range(0, 10, 1)."
   ]
  },
  {
   "cell_type": "code",
   "execution_count": null,
   "id": "15c7b739",
   "metadata": {},
   "outputs": [],
   "source": [
    "12. Write a short program that prints the numbers 1 to 10 using a for loop. Then write an equivalent\n",
    "program that prints the numbers 1 to 10 using a while loop."
   ]
  },
  {
   "cell_type": "code",
   "execution_count": null,
   "id": "d7eb5b68",
   "metadata": {},
   "outputs": [],
   "source": [
    "#program that prints the numbers 1 to 10 using a for loop\n",
    "\n",
    "for i in range(1,11):\n",
    "    print(i)"
   ]
  },
  {
   "cell_type": "code",
   "execution_count": null,
   "id": "6534d751",
   "metadata": {},
   "outputs": [],
   "source": [
    "#program that prints the numbers 1 to 10 using a while loop\n",
    "\n",
    "a=1\n",
    "while a<=10:\n",
    "    print(a)\n",
    "    a=a+1"
   ]
  },
  {
   "cell_type": "code",
   "execution_count": null,
   "id": "f0b3582d",
   "metadata": {},
   "outputs": [],
   "source": [
    "13.If you had a function named bacon() inside a module named spam, how would you call it after\n",
    "importing spam?"
   ]
  },
  {
   "cell_type": "code",
   "execution_count": null,
   "id": "66f07814",
   "metadata": {},
   "outputs": [],
   "source": [
    "import spam\n",
    "a=bacon()\n",
    "print(a)"
   ]
  }
 ],
 "metadata": {
  "kernelspec": {
   "display_name": "Python 3 (ipykernel)",
   "language": "python",
   "name": "python3"
  },
  "language_info": {
   "codemirror_mode": {
    "name": "ipython",
    "version": 3
   },
   "file_extension": ".py",
   "mimetype": "text/x-python",
   "name": "python",
   "nbconvert_exporter": "python",
   "pygments_lexer": "ipython3",
   "version": "3.9.12"
  }
 },
 "nbformat": 4,
 "nbformat_minor": 5
}
