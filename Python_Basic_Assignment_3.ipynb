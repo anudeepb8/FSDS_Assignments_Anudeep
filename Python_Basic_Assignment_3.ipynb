{
 "cells": [
  {
   "cell_type": "markdown",
   "id": "17708954",
   "metadata": {},
   "source": [
    "# Assignment3"
   ]
  },
  {
   "cell_type": "code",
   "execution_count": null,
   "id": "955de18b",
   "metadata": {},
   "outputs": [],
   "source": [
    "1. Why are functions advantageous to have in your programs?"
   ]
  },
  {
   "cell_type": "code",
   "execution_count": null,
   "id": "b2bcffc3",
   "metadata": {},
   "outputs": [],
   "source": [
    "Answer:\n",
    "\n",
    "Advantage of functions is code reusability.\n",
    "\n",
    "i.e no need to write the complete code everytime,instead we can call the function and provide the required arguments to \n",
    "\n",
    "the function to get the result."
   ]
  },
  {
   "cell_type": "code",
   "execution_count": null,
   "id": "eab19c2b",
   "metadata": {},
   "outputs": [],
   "source": [
    "2. When does the code in a function run: when it's specified or when it's called?"
   ]
  },
  {
   "cell_type": "code",
   "execution_count": null,
   "id": "843752b9",
   "metadata": {},
   "outputs": [],
   "source": [
    "Answer:\n",
    "\n",
    "code in a function runs when we called the function"
   ]
  },
  {
   "cell_type": "code",
   "execution_count": null,
   "id": "df028b78",
   "metadata": {},
   "outputs": [],
   "source": [
    "3. What statement creates a function?"
   ]
  },
  {
   "cell_type": "code",
   "execution_count": null,
   "id": "3105499c",
   "metadata": {},
   "outputs": [],
   "source": [
    "def statement is used to create the function"
   ]
  },
  {
   "cell_type": "code",
   "execution_count": null,
   "id": "bf356c5c",
   "metadata": {},
   "outputs": [],
   "source": [
    "4.What is the difference between a function and a function call?"
   ]
  },
  {
   "cell_type": "code",
   "execution_count": null,
   "id": "120fd37a",
   "metadata": {},
   "outputs": [],
   "source": [
    "Answer:\n",
    "\n",
    "function is a block code which written to make re-use of it whenever required.\n",
    "\n",
    "for example,following is the function to add two numbers.\n",
    "\n",
    "def add(a,b):\n",
    "    return a+b\n",
    "\n",
    "function call is calling the already written function to perform its operation.\n",
    "\n",
    "for example,in the above we wrote the function name add,by calling this function we compute the sum of 3,4 like below\n",
    "\n",
    "add(3,4)"
   ]
  },
  {
   "cell_type": "code",
   "execution_count": null,
   "id": "09ed9440",
   "metadata": {},
   "outputs": [],
   "source": [
    "5. How many global scopes are there in a Python program? How many local scopes?"
   ]
  },
  {
   "cell_type": "code",
   "execution_count": null,
   "id": "507ff505",
   "metadata": {},
   "outputs": [],
   "source": [
    "Answer:\n",
    "\n",
    "One global scope\n",
    "\n",
    "Local scope is created whenever function is called"
   ]
  },
  {
   "cell_type": "code",
   "execution_count": null,
   "id": "37ab1d81",
   "metadata": {},
   "outputs": [],
   "source": [
    "6. What happens to variables in a local scope when the function call returns?"
   ]
  },
  {
   "cell_type": "code",
   "execution_count": null,
   "id": "4f7f9390",
   "metadata": {},
   "outputs": [],
   "source": [
    "Answer:\n",
    "\n",
    "variables in a local scope is destroyed once the function call returns."
   ]
  },
  {
   "cell_type": "code",
   "execution_count": null,
   "id": "8577c76d",
   "metadata": {},
   "outputs": [],
   "source": [
    "7. What is the concept of a return value? Is it possible to have a return value in an expression?"
   ]
  },
  {
   "cell_type": "code",
   "execution_count": null,
   "id": "a40e5579",
   "metadata": {},
   "outputs": [],
   "source": [
    "Answer:\n",
    "\n",
    "return is similar to print statement.\n",
    "\n",
    "return gives the output expected from the function.\n",
    "\n",
    "It is possible to have a return value in an expression."
   ]
  },
  {
   "cell_type": "code",
   "execution_count": null,
   "id": "76da84d9",
   "metadata": {},
   "outputs": [],
   "source": [
    "8. If a function does not have a return statement, what is the return value of a call to that function?"
   ]
  },
  {
   "cell_type": "code",
   "execution_count": null,
   "id": "132461ec",
   "metadata": {},
   "outputs": [],
   "source": [
    "Answer:\n",
    "    \n",
    "Don't return anything if we just call the function\n",
    "\n",
    "if we print the fuction call without the return statement,then it returns the None."
   ]
  },
  {
   "cell_type": "code",
   "execution_count": null,
   "id": "23875d67",
   "metadata": {},
   "outputs": [],
   "source": [
    "9. How do you make a function variable refer to the global variable?"
   ]
  },
  {
   "cell_type": "code",
   "execution_count": null,
   "id": "c6b4c8c0",
   "metadata": {},
   "outputs": [],
   "source": [
    "Answer:\n",
    "\n",
    "With the help of global keyword."
   ]
  },
  {
   "cell_type": "code",
   "execution_count": null,
   "id": "638de312",
   "metadata": {},
   "outputs": [],
   "source": [
    "10. What is the data type of None?"
   ]
  },
  {
   "cell_type": "code",
   "execution_count": null,
   "id": "4b46a287",
   "metadata": {},
   "outputs": [],
   "source": [
    "Answer:\n",
    "    \n",
    "None Type"
   ]
  },
  {
   "cell_type": "code",
   "execution_count": null,
   "id": "2698ab4a",
   "metadata": {},
   "outputs": [],
   "source": [
    "11.What does the sentence import areallyourpetsnamederic do?"
   ]
  },
  {
   "cell_type": "code",
   "execution_count": null,
   "id": "dc600187",
   "metadata": {},
   "outputs": [],
   "source": [
    "Answer:\n",
    "\n",
    "it imports the module named areallyourpetsnamederic"
   ]
  },
  {
   "cell_type": "code",
   "execution_count": null,
   "id": "8a49752f",
   "metadata": {},
   "outputs": [],
   "source": [
    "12. If you had a bacon() feature in a spam module, what would you call it after importing spam?"
   ]
  },
  {
   "cell_type": "code",
   "execution_count": null,
   "id": "e9030d91",
   "metadata": {},
   "outputs": [],
   "source": [
    "Answer:\n",
    "\n",
    "import spam\n",
    "\n",
    "spam.bacon()"
   ]
  },
  {
   "cell_type": "code",
   "execution_count": null,
   "id": "9d0cf45b",
   "metadata": {},
   "outputs": [],
   "source": [
    "13. What can you do to save a programme from crashing if it encounters an error?"
   ]
  },
  {
   "cell_type": "code",
   "execution_count": null,
   "id": "2208083d",
   "metadata": {},
   "outputs": [],
   "source": [
    "Answer:\n",
    "\n",
    "By implementing exception handling,like keeping suspicious code inside the try block."
   ]
  },
  {
   "cell_type": "code",
   "execution_count": null,
   "id": "174a3bf4",
   "metadata": {},
   "outputs": [],
   "source": [
    "14. What is the purpose of the try clause? What is the purpose of the except clause?"
   ]
  },
  {
   "cell_type": "code",
   "execution_count": null,
   "id": "7ead9dd4",
   "metadata": {},
   "outputs": [],
   "source": [
    "Answer:\n",
    "\n",
    "try clause helps to save a programme from crashing if it encounters an error.\n",
    "\n",
    "except clause raises the exception/error message if the code in the try block failed to execute."
   ]
  }
 ],
 "metadata": {
  "kernelspec": {
   "display_name": "Python 3 (ipykernel)",
   "language": "python",
   "name": "python3"
  },
  "language_info": {
   "codemirror_mode": {
    "name": "ipython",
    "version": 3
   },
   "file_extension": ".py",
   "mimetype": "text/x-python",
   "name": "python",
   "nbconvert_exporter": "python",
   "pygments_lexer": "ipython3",
   "version": "3.9.12"
  }
 },
 "nbformat": 4,
 "nbformat_minor": 5
}
